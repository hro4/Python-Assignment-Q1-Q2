{
  "nbformat": 4,
  "nbformat_minor": 0,
  "metadata": {
    "colab": {
      "provenance": []
    },
    "kernelspec": {
      "name": "python3",
      "display_name": "Python 3"
    },
    "language_info": {
      "name": "python"
    }
  },
  "cells": [
    {
      "cell_type": "markdown",
      "source": [
        "Question 1: Product of Numbers in a Flat List"
      ],
      "metadata": {
        "id": "Pq58KnOQ3Vym"
      }
    },
    {
      "cell_type": "code",
      "execution_count": null,
      "metadata": {
        "id": "YSlfSbsc3TPD"
      },
      "outputs": [],
      "source": [
        "def product_of_flattened_numbers(input_list):\n",
        "    flat_numbers = []\n",
        "\n",
        "    def flatten_and_extract_numbers(item):\n",
        "        if isinstance(item, (int, float)):\n",
        "            if isinstance(item, bool): # Exclude boolean True/False which are subclasses of int\n",
        "                return\n",
        "            flat_numbers.append(item)\n",
        "        elif isinstance(item, (list, tuple, set)):\n",
        "            for sub_item in item:\n",
        "                flatten_and_extract_numbers(sub_item)\n",
        "        elif isinstance(item, dict):\n",
        "            for key, value in item.items():\n",
        "                # Extract numeric keys\n",
        "                if isinstance(key, (int, float)):\n",
        "                    if not isinstance(key, bool): # Exclude boolean keys\n",
        "                        flat_numbers.append(key)\n",
        "                # Extract numeric values\n",
        "                flatten_and_extract_numbers(value)\n",
        "\n",
        "    flatten_and_extract_numbers(input_list)\n",
        "\n",
        "    if not flat_numbers:\n",
        "        return 0 # Or 1, depending on desired behavior for no numbers. Product of no numbers is typically 1.\n",
        "\n",
        "    product = 1\n",
        "    for num in flat_numbers:\n",
        "        product *= num\n",
        "    return product\n",
        "\n",
        "# Given list as an argument for your function [cite: 11]\n",
        "list1 = [1,2,3,4, [44,55,66, True], False, (34,56,78,89,34), {1:34, \"key2\": [55, 67, 78, 89], 4: (45, 22, 61, 34)}, [56, 'data science'], 'Machine Learning']\n",
        "\n",
        "# Fix for the original list provided in the prompt, there was a syntax error in the dictionary definition.\n",
        "# Corrected list:\n",
        "list1_corrected = [1,2,3,4, [44,55,66, True], False, (34,56,78,89,34), {1:34, \"key2\": [55, 67, 78, 89], 4: (45, 22, 61, 34)}, [56, 'data science'], 'Machine Learning']\n",
        "\n",
        "result = product_of_flattened_numbers(list1_corrected)\n",
        "print(f\"The product of all numbers in the flattened list is: {result}\")"
      ]
    },
    {
      "cell_type": "markdown",
      "source": [
        "Question 2: Encrypting a Message"
      ],
      "metadata": {
        "id": "eNk11i303jNd"
      }
    },
    {
      "cell_type": "code",
      "source": [
        "def encrypt_message(sentence):\n",
        "    encrypted_chars = []\n",
        "    # Convert the input sentence to lowercase [cite: 20]\n",
        "    sentence_lower = sentence.lower()\n",
        "\n",
        "    for char in sentence_lower:\n",
        "        if 'a' <= char <= 'z':\n",
        "            # Logic: a -> z, b -> y, c -> x, etc. [cite: 15, 16]\n",
        "            # 'a' (ASCII 97) + 'z' (ASCII 122) = 219\n",
        "            # So, encrypted_char = 219 - ord(char)\n",
        "            encrypted_char = chr(ord('a') + ord('z') - ord(char))\n",
        "            encrypted_chars.append(encrypted_char)\n",
        "        elif char == ' ':\n",
        "            # Replace whitespace with a dollar sign\n",
        "            encrypted_chars.append('$')\n",
        "        else:\n",
        "            # Keep punctuation marks unchanged\n",
        "            encrypted_chars.append(char)\n",
        "\n",
        "    return \"\".join(encrypted_chars)\n",
        "\n",
        "# Input Sentence [cite: 18]\n",
        "input_sentence = \"I want to become a Data Scientist.\"\n",
        "\n",
        "# Encrypt the input sentence [cite: 19]\n",
        "encrypted_output = encrypt_message(input_sentence)\n",
        "print(f\"Original Sentence: {input_sentence}\")\n",
        "print(f\"Encrypted Sentence: {encrypted_output}\")"
      ],
      "metadata": {
        "id": "Z3JzwcZD3ogn"
      },
      "execution_count": null,
      "outputs": []
    }
  ]
}